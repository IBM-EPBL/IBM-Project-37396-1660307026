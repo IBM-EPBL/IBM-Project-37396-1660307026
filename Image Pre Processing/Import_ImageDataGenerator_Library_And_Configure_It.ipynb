{
 "cells": [
  {
   "cell_type": "markdown",
   "metadata": {},
   "source": [
    "{ “nbformat”: 4, “nbformat_minor”: 0, “metadata”: { “colab”: {\n",
    "“provenance”: \\[\\] }, “kernelspec”: { “name”: “python3”, “display_name”:\n",
    "“Python 3” }, “language_info”: { “name”: “python” } }, “cells”: \\[ {\n",
    "“cell_type”: “code”, “execution_count”: 1, “metadata”: { “id”:\n",
    "“3X7Lc25WhksU” }, “outputs”: \\[\\], “source”: \\[ “from\n",
    "tensorflow.keras.preprocessing.image import ImageDataGenerator” \\] }, {\n",
    "“cell_type”: “code”, “source”: \\[ “\\# Training Datagen”, “train_datagen\n",
    "=\n",
    "ImageDataGenerator(rescale=1/255,zoom_range=0.2,horizontal_flip=True,vertical_flip=False)”,\n",
    "“\\# Testing Datagen”, “test_datagen = ImageDataGenerator(rescale=1/255)”\n",
    "\\], “metadata”: { “id”: “hGnB_tOtlEd-” }, “execution_count”: 2,\n",
    "“outputs”: \\[\\] }, { “cell_type”: “code”, “source”: \\[ “import\n",
    "tensorflow as tf”, “import os”, “from tensorflow.keras.models import\n",
    "Sequential”, “from tensorflow.keras.layers import Dense, Conv2D,\n",
    "Flatten, Dropout, MaxPooling2D”, “from\n",
    "tensorflow.keras.preprocessing.image import ImageDataGenerator”, “import\n",
    "numpy as np”, “import matplotlib.pyplot as plt”, “import IPython.display\n",
    "as display”, “from PIL import Image”, “import pathlib” \\], “metadata”: {\n",
    "“id”: “Etq60D4YlG1y” }, “execution_count”: 3, “outputs”: \\[\\] } \\] }"
   ]
  }
 ],
 "nbformat": 4,
 "nbformat_minor": 5,
 "metadata": {}
}
